{
 "cells": [
  {
   "cell_type": "code",
   "execution_count": 1,
   "metadata": {},
   "outputs": [],
   "source": [
    "import music21 as m21\n",
    "m21.humdrum.spineParser.flavors['JRP'] = True\n",
    "\n",
    "from MTCFeatures.MTCFeatureLoader import MTCFeatureLoader"
   ]
  },
  {
   "cell_type": "code",
   "execution_count": 2,
   "metadata": {},
   "outputs": [],
   "source": [
    "def annotate(s, nlbid, seq, featlist=None, indx=False):\n",
    "    if featlist == None: #take all\n",
    "        featlist = seq['features'].keys()\n",
    "    ix = 0\n",
    "    for n in s.flat.notes:\n",
    "        #tie?\n",
    "        if n.tie:\n",
    "            if n.tie.type == 'stop' or n.tie.type == 'continue':\n",
    "                continue\n",
    "        #gracenote?\n",
    "        if n.quarterLength == 0.0:\n",
    "            continue\n",
    "        n.lyric = None\n",
    "        if indx:\n",
    "            n.addLyric(str(ix))\n",
    "        for featname in featlist:\n",
    "            n.addLyric(seq['features'][featname][ix])\n",
    "        ix += 1\n"
   ]
  },
  {
   "cell_type": "code",
   "execution_count": 12,
   "metadata": {},
   "outputs": [],
   "source": [
    "seqs = MTCFeatureLoader('MTC-FS-INST-2.0').sequences()\n",
    "seqs = {seq['id']: seq for seq in seqs}"
   ]
  },
  {
   "cell_type": "code",
   "execution_count": 15,
   "metadata": {},
   "outputs": [],
   "source": [
    "nlbid = 'NLB074291_01'\n",
    "s = m21.converter.parse(f'/Users/pvk/data/MTC/MTC-FS-INST-2.0/krn/{nlbid}.krn')\n",
    "annotate(s, nlbid, seqs[nlbid], featlist=['lyrics','phoneme','noncontentword','rhymes','rhymescontentwords'])"
   ]
  },
  {
   "cell_type": "code",
   "execution_count": 16,
   "metadata": {},
   "outputs": [],
   "source": [
    "s.show('xml')"
   ]
  },
  {
   "cell_type": "code",
   "execution_count": null,
   "metadata": {},
   "outputs": [],
   "source": []
  }
 ],
 "metadata": {
  "kernelspec": {
   "display_name": "Python 3",
   "language": "python",
   "name": "python3"
  },
  "language_info": {
   "codemirror_mode": {
    "name": "ipython",
    "version": 3
   },
   "file_extension": ".py",
   "mimetype": "text/x-python",
   "name": "python",
   "nbconvert_exporter": "python",
   "pygments_lexer": "ipython3",
   "version": "3.7.4"
  }
 },
 "nbformat": 4,
 "nbformat_minor": 2
}
